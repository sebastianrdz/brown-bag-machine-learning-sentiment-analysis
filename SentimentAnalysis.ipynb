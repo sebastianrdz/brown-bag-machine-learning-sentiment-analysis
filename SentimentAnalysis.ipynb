{
  "cells": [
    {
      "cell_type": "markdown",
      "metadata": {
        "id": "view-in-github",
        "colab_type": "text"
      },
      "source": [
        "<a href=\"https://colab.research.google.com/github/sebastianrdz/brown-bag-machine-learning-sentiment-analysis/blob/main/SentimentAnalysis.ipynb\" target=\"_parent\"><img src=\"https://colab.research.google.com/assets/colab-badge.svg\" alt=\"Open In Colab\"/></a>"
      ]
    },
    {
      "cell_type": "markdown",
      "metadata": {
        "id": "RG8EYDM5PIJ3"
      },
      "source": [
        "Kaggle: https://www.kaggle.com/datasets/lakshmi25npathi/imdb-dataset-of-50k-movie-reviews?resource=download\n",
        "\n",
        "https://www.kaggle.com/code/amirhoseinsedaghati/sentiment-analysis-on-reviews-mchcnn-bert-textblob"
      ]
    },
    {
      "cell_type": "markdown",
      "metadata": {
        "id": "Hnn9EB1R7PPs"
      },
      "source": [
        "## Connect to Google Drive\n",
        "For this to work, you must have especify your working directory within your google dirve. You must also have the \"IMDB Dataset.csv\" in youd directory. You can download it from [Kaggle here.](https://www.kaggle.com/datasets/lakshmi25npathi/imdb-dataset-of-50k-movie-reviews?resource=download)"
      ]
    },
    {
      "cell_type": "code",
      "execution_count": null,
      "metadata": {
        "colab": {
          "base_uri": "https://localhost:8080/"
        },
        "id": "UeEwPVFT-wIn",
        "outputId": "e2b3c9e6-e607-4ad6-d2f9-f5a6f3038145"
      },
      "outputs": [
        {
          "output_type": "stream",
          "name": "stdout",
          "text": [
            "Drive already mounted at /content/gdrive; to attempt to forcibly remount, call drive.mount(\"/content/gdrive\", force_remount=True).\n",
            "/content/gdrive/My Drive/Machine Learning\n"
          ]
        }
      ],
      "source": [
        "from google.colab import drive\n",
        "drive.mount(\"/content/gdrive\")\n",
        "!pwd"
      ]
    },
    {
      "cell_type": "code",
      "execution_count": null,
      "metadata": {
        "colab": {
          "base_uri": "https://localhost:8080/"
        },
        "id": "_b-ZMxsv3GRc",
        "outputId": "3a0f9cd9-9c3e-47b7-dee0-dc8f93e2f886"
      },
      "outputs": [
        {
          "output_type": "stream",
          "name": "stdout",
          "text": [
            "/content/gdrive/MyDrive/Machine Learning\n",
            " GRU.sav\t     notebookfbcaf0d33e.ipynb\t\t     Reto_Tokenizer.ipynb\n",
            "'IMDB Dataset.csv'  'Presentación de avance del reto.pptx'  'Untitled presentation.gslides'\n"
          ]
        }
      ],
      "source": [
        "%cd \"/content/gdrive/MyDrive/Machine Learning\"\n",
        "!ls"
      ]
    },
    {
      "cell_type": "markdown",
      "metadata": {
        "id": "kiwJh0GWyDy9"
      },
      "source": [
        "## Import"
      ]
    },
    {
      "cell_type": "code",
      "source": [
        "!pip install git+https://github.com/paulgavrikov/visualkeras --upgrade"
      ],
      "metadata": {
        "colab": {
          "base_uri": "https://localhost:8080/"
        },
        "id": "m1hzG7l7_PlP",
        "outputId": "44905b0a-1795-448a-a9f2-f55a5b6b5b67"
      },
      "execution_count": null,
      "outputs": [
        {
          "output_type": "stream",
          "name": "stdout",
          "text": [
            "Collecting git+https://github.com/paulgavrikov/visualkeras\n",
            "  Cloning https://github.com/paulgavrikov/visualkeras to /tmp/pip-req-build-r6nqncck\n",
            "  Running command git clone --filter=blob:none --quiet https://github.com/paulgavrikov/visualkeras /tmp/pip-req-build-r6nqncck\n",
            "  Resolved https://github.com/paulgavrikov/visualkeras to commit cd169b81be347e2090353ad6fe2bd2e1f4020cf4\n",
            "  Preparing metadata (setup.py) ... \u001b[?25l\u001b[?25hdone\n",
            "Requirement already satisfied: pillow>=6.2.0 in /usr/local/lib/python3.10/dist-packages (from visualkeras==0.0.2) (9.4.0)\n",
            "Requirement already satisfied: numpy>=1.18.1 in /usr/local/lib/python3.10/dist-packages (from visualkeras==0.0.2) (1.23.5)\n",
            "Requirement already satisfied: aggdraw>=1.3.11 in /usr/local/lib/python3.10/dist-packages (from visualkeras==0.0.2) (1.3.18)\n"
          ]
        }
      ]
    },
    {
      "cell_type": "code",
      "execution_count": null,
      "metadata": {
        "id": "GE7ii_Idl0Kr"
      },
      "outputs": [],
      "source": [
        "import joblib\n",
        "import nltk\n",
        "import numpy as np\n",
        "import matplotlib.pylab as plt\n",
        "import pandas as pd\n",
        "import re\n",
        "import tensorflow as tf\n",
        "import visualkeras # pip install above should run\n",
        "from keras.preprocessing.text import Tokenizer\n",
        "from keras.layers import Dense, Embedding, SpatialDropout1D, GRU\n",
        "from keras.utils import pad_sequences\n",
        "from keras.models import Sequential\n",
        "from keras.utils import plot_model\n",
        "from nltk.corpus import stopwords\n",
        "from sklearn.model_selection import train_test_split\n",
        "# from sklearn.naive_bayes import BernoulliNB\n",
        "from sklearn.metrics import classification_report\n",
        "from sklearn.metrics import accuracy_score\n",
        "from tensorflow import keras"
      ]
    },
    {
      "cell_type": "code",
      "execution_count": null,
      "metadata": {
        "colab": {
          "base_uri": "https://localhost:8080/"
        },
        "id": "fFk4S-mSX8nd",
        "outputId": "bc9e8cff-5e6d-4b79-96c5-5fbeece29490"
      },
      "outputs": [
        {
          "output_type": "stream",
          "name": "stderr",
          "text": [
            "[nltk_data] Downloading package stopwords to /root/nltk_data...\n",
            "[nltk_data]   Package stopwords is already up-to-date!\n"
          ]
        },
        {
          "output_type": "execute_result",
          "data": {
            "text/plain": [
              "True"
            ]
          },
          "metadata": {},
          "execution_count": 48
        }
      ],
      "source": [
        "nltk.download('stopwords')"
      ]
    },
    {
      "cell_type": "markdown",
      "source": [
        "## Structure Visualization"
      ],
      "metadata": {
        "id": "zALme0WQUORO"
      }
    },
    {
      "cell_type": "code",
      "source": [
        "# read IMDB Dataset\n",
        "reviews = pd.read_csv(\"IMDB Dataset.csv\")"
      ],
      "metadata": {
        "id": "tMjTDkn_T7Un"
      },
      "execution_count": null,
      "outputs": []
    },
    {
      "cell_type": "code",
      "execution_count": null,
      "metadata": {
        "colab": {
          "base_uri": "https://localhost:8080/",
          "height": 206
        },
        "id": "Tngk_bgS39tW",
        "outputId": "cc4aff51-419a-45e9-fee1-6691d510303e"
      },
      "outputs": [
        {
          "output_type": "execute_result",
          "data": {
            "text/plain": [
              "                                              review sentiment\n",
              "0  One of the other reviewers has mentioned that ...  positive\n",
              "1  A wonderful little production. <br /><br />The...  positive\n",
              "2  I thought this was a wonderful way to spend ti...  positive\n",
              "3  Basically there's a family where a little boy ...  negative\n",
              "4  Petter Mattei's \"Love in the Time of Money\" is...  positive"
            ],
            "text/html": [
              "\n",
              "  <div id=\"df-5b4f32ca-99d0-403b-bf41-f4ee2ba4fbcb\" class=\"colab-df-container\">\n",
              "    <div>\n",
              "<style scoped>\n",
              "    .dataframe tbody tr th:only-of-type {\n",
              "        vertical-align: middle;\n",
              "    }\n",
              "\n",
              "    .dataframe tbody tr th {\n",
              "        vertical-align: top;\n",
              "    }\n",
              "\n",
              "    .dataframe thead th {\n",
              "        text-align: right;\n",
              "    }\n",
              "</style>\n",
              "<table border=\"1\" class=\"dataframe\">\n",
              "  <thead>\n",
              "    <tr style=\"text-align: right;\">\n",
              "      <th></th>\n",
              "      <th>review</th>\n",
              "      <th>sentiment</th>\n",
              "    </tr>\n",
              "  </thead>\n",
              "  <tbody>\n",
              "    <tr>\n",
              "      <th>0</th>\n",
              "      <td>One of the other reviewers has mentioned that ...</td>\n",
              "      <td>positive</td>\n",
              "    </tr>\n",
              "    <tr>\n",
              "      <th>1</th>\n",
              "      <td>A wonderful little production. &lt;br /&gt;&lt;br /&gt;The...</td>\n",
              "      <td>positive</td>\n",
              "    </tr>\n",
              "    <tr>\n",
              "      <th>2</th>\n",
              "      <td>I thought this was a wonderful way to spend ti...</td>\n",
              "      <td>positive</td>\n",
              "    </tr>\n",
              "    <tr>\n",
              "      <th>3</th>\n",
              "      <td>Basically there's a family where a little boy ...</td>\n",
              "      <td>negative</td>\n",
              "    </tr>\n",
              "    <tr>\n",
              "      <th>4</th>\n",
              "      <td>Petter Mattei's \"Love in the Time of Money\" is...</td>\n",
              "      <td>positive</td>\n",
              "    </tr>\n",
              "  </tbody>\n",
              "</table>\n",
              "</div>\n",
              "    <div class=\"colab-df-buttons\">\n",
              "\n",
              "  <div class=\"colab-df-container\">\n",
              "    <button class=\"colab-df-convert\" onclick=\"convertToInteractive('df-5b4f32ca-99d0-403b-bf41-f4ee2ba4fbcb')\"\n",
              "            title=\"Convert this dataframe to an interactive table.\"\n",
              "            style=\"display:none;\">\n",
              "\n",
              "  <svg xmlns=\"http://www.w3.org/2000/svg\" height=\"24px\" viewBox=\"0 -960 960 960\">\n",
              "    <path d=\"M120-120v-720h720v720H120Zm60-500h600v-160H180v160Zm220 220h160v-160H400v160Zm0 220h160v-160H400v160ZM180-400h160v-160H180v160Zm440 0h160v-160H620v160ZM180-180h160v-160H180v160Zm440 0h160v-160H620v160Z\"/>\n",
              "  </svg>\n",
              "    </button>\n",
              "\n",
              "  <style>\n",
              "    .colab-df-container {\n",
              "      display:flex;\n",
              "      gap: 12px;\n",
              "    }\n",
              "\n",
              "    .colab-df-convert {\n",
              "      background-color: #E8F0FE;\n",
              "      border: none;\n",
              "      border-radius: 50%;\n",
              "      cursor: pointer;\n",
              "      display: none;\n",
              "      fill: #1967D2;\n",
              "      height: 32px;\n",
              "      padding: 0 0 0 0;\n",
              "      width: 32px;\n",
              "    }\n",
              "\n",
              "    .colab-df-convert:hover {\n",
              "      background-color: #E2EBFA;\n",
              "      box-shadow: 0px 1px 2px rgba(60, 64, 67, 0.3), 0px 1px 3px 1px rgba(60, 64, 67, 0.15);\n",
              "      fill: #174EA6;\n",
              "    }\n",
              "\n",
              "    .colab-df-buttons div {\n",
              "      margin-bottom: 4px;\n",
              "    }\n",
              "\n",
              "    [theme=dark] .colab-df-convert {\n",
              "      background-color: #3B4455;\n",
              "      fill: #D2E3FC;\n",
              "    }\n",
              "\n",
              "    [theme=dark] .colab-df-convert:hover {\n",
              "      background-color: #434B5C;\n",
              "      box-shadow: 0px 1px 3px 1px rgba(0, 0, 0, 0.15);\n",
              "      filter: drop-shadow(0px 1px 2px rgba(0, 0, 0, 0.3));\n",
              "      fill: #FFFFFF;\n",
              "    }\n",
              "  </style>\n",
              "\n",
              "    <script>\n",
              "      const buttonEl =\n",
              "        document.querySelector('#df-5b4f32ca-99d0-403b-bf41-f4ee2ba4fbcb button.colab-df-convert');\n",
              "      buttonEl.style.display =\n",
              "        google.colab.kernel.accessAllowed ? 'block' : 'none';\n",
              "\n",
              "      async function convertToInteractive(key) {\n",
              "        const element = document.querySelector('#df-5b4f32ca-99d0-403b-bf41-f4ee2ba4fbcb');\n",
              "        const dataTable =\n",
              "          await google.colab.kernel.invokeFunction('convertToInteractive',\n",
              "                                                    [key], {});\n",
              "        if (!dataTable) return;\n",
              "\n",
              "        const docLinkHtml = 'Like what you see? Visit the ' +\n",
              "          '<a target=\"_blank\" href=https://colab.research.google.com/notebooks/data_table.ipynb>data table notebook</a>'\n",
              "          + ' to learn more about interactive tables.';\n",
              "        element.innerHTML = '';\n",
              "        dataTable['output_type'] = 'display_data';\n",
              "        await google.colab.output.renderOutput(dataTable, element);\n",
              "        const docLink = document.createElement('div');\n",
              "        docLink.innerHTML = docLinkHtml;\n",
              "        element.appendChild(docLink);\n",
              "      }\n",
              "    </script>\n",
              "  </div>\n",
              "\n",
              "\n",
              "<div id=\"df-21b4995d-8fce-4c8c-9cdb-f1172efcbb08\">\n",
              "  <button class=\"colab-df-quickchart\" onclick=\"quickchart('df-21b4995d-8fce-4c8c-9cdb-f1172efcbb08')\"\n",
              "            title=\"Suggest charts.\"\n",
              "            style=\"display:none;\">\n",
              "\n",
              "<svg xmlns=\"http://www.w3.org/2000/svg\" height=\"24px\"viewBox=\"0 0 24 24\"\n",
              "     width=\"24px\">\n",
              "    <g>\n",
              "        <path d=\"M19 3H5c-1.1 0-2 .9-2 2v14c0 1.1.9 2 2 2h14c1.1 0 2-.9 2-2V5c0-1.1-.9-2-2-2zM9 17H7v-7h2v7zm4 0h-2V7h2v10zm4 0h-2v-4h2v4z\"/>\n",
              "    </g>\n",
              "</svg>\n",
              "  </button>\n",
              "\n",
              "<style>\n",
              "  .colab-df-quickchart {\n",
              "      --bg-color: #E8F0FE;\n",
              "      --fill-color: #1967D2;\n",
              "      --hover-bg-color: #E2EBFA;\n",
              "      --hover-fill-color: #174EA6;\n",
              "      --disabled-fill-color: #AAA;\n",
              "      --disabled-bg-color: #DDD;\n",
              "  }\n",
              "\n",
              "  [theme=dark] .colab-df-quickchart {\n",
              "      --bg-color: #3B4455;\n",
              "      --fill-color: #D2E3FC;\n",
              "      --hover-bg-color: #434B5C;\n",
              "      --hover-fill-color: #FFFFFF;\n",
              "      --disabled-bg-color: #3B4455;\n",
              "      --disabled-fill-color: #666;\n",
              "  }\n",
              "\n",
              "  .colab-df-quickchart {\n",
              "    background-color: var(--bg-color);\n",
              "    border: none;\n",
              "    border-radius: 50%;\n",
              "    cursor: pointer;\n",
              "    display: none;\n",
              "    fill: var(--fill-color);\n",
              "    height: 32px;\n",
              "    padding: 0;\n",
              "    width: 32px;\n",
              "  }\n",
              "\n",
              "  .colab-df-quickchart:hover {\n",
              "    background-color: var(--hover-bg-color);\n",
              "    box-shadow: 0 1px 2px rgba(60, 64, 67, 0.3), 0 1px 3px 1px rgba(60, 64, 67, 0.15);\n",
              "    fill: var(--button-hover-fill-color);\n",
              "  }\n",
              "\n",
              "  .colab-df-quickchart-complete:disabled,\n",
              "  .colab-df-quickchart-complete:disabled:hover {\n",
              "    background-color: var(--disabled-bg-color);\n",
              "    fill: var(--disabled-fill-color);\n",
              "    box-shadow: none;\n",
              "  }\n",
              "\n",
              "  .colab-df-spinner {\n",
              "    border: 2px solid var(--fill-color);\n",
              "    border-color: transparent;\n",
              "    border-bottom-color: var(--fill-color);\n",
              "    animation:\n",
              "      spin 1s steps(1) infinite;\n",
              "  }\n",
              "\n",
              "  @keyframes spin {\n",
              "    0% {\n",
              "      border-color: transparent;\n",
              "      border-bottom-color: var(--fill-color);\n",
              "      border-left-color: var(--fill-color);\n",
              "    }\n",
              "    20% {\n",
              "      border-color: transparent;\n",
              "      border-left-color: var(--fill-color);\n",
              "      border-top-color: var(--fill-color);\n",
              "    }\n",
              "    30% {\n",
              "      border-color: transparent;\n",
              "      border-left-color: var(--fill-color);\n",
              "      border-top-color: var(--fill-color);\n",
              "      border-right-color: var(--fill-color);\n",
              "    }\n",
              "    40% {\n",
              "      border-color: transparent;\n",
              "      border-right-color: var(--fill-color);\n",
              "      border-top-color: var(--fill-color);\n",
              "    }\n",
              "    60% {\n",
              "      border-color: transparent;\n",
              "      border-right-color: var(--fill-color);\n",
              "    }\n",
              "    80% {\n",
              "      border-color: transparent;\n",
              "      border-right-color: var(--fill-color);\n",
              "      border-bottom-color: var(--fill-color);\n",
              "    }\n",
              "    90% {\n",
              "      border-color: transparent;\n",
              "      border-bottom-color: var(--fill-color);\n",
              "    }\n",
              "  }\n",
              "</style>\n",
              "\n",
              "  <script>\n",
              "    async function quickchart(key) {\n",
              "      const quickchartButtonEl =\n",
              "        document.querySelector('#' + key + ' button');\n",
              "      quickchartButtonEl.disabled = true;  // To prevent multiple clicks.\n",
              "      quickchartButtonEl.classList.add('colab-df-spinner');\n",
              "      try {\n",
              "        const charts = await google.colab.kernel.invokeFunction(\n",
              "            'suggestCharts', [key], {});\n",
              "      } catch (error) {\n",
              "        console.error('Error during call to suggestCharts:', error);\n",
              "      }\n",
              "      quickchartButtonEl.classList.remove('colab-df-spinner');\n",
              "      quickchartButtonEl.classList.add('colab-df-quickchart-complete');\n",
              "    }\n",
              "    (() => {\n",
              "      let quickchartButtonEl =\n",
              "        document.querySelector('#df-21b4995d-8fce-4c8c-9cdb-f1172efcbb08 button');\n",
              "      quickchartButtonEl.style.display =\n",
              "        google.colab.kernel.accessAllowed ? 'block' : 'none';\n",
              "    })();\n",
              "  </script>\n",
              "</div>\n",
              "    </div>\n",
              "  </div>\n"
            ]
          },
          "metadata": {},
          "execution_count": 49
        }
      ],
      "source": [
        "# visualize the first 5 reviews\n",
        "reviews.head()"
      ]
    },
    {
      "cell_type": "code",
      "execution_count": null,
      "metadata": {
        "colab": {
          "base_uri": "https://localhost:8080/"
        },
        "id": "p1-8UO-awebK",
        "outputId": "cace54ec-b3c4-4d86-8524-d3d992d39c18"
      },
      "outputs": [
        {
          "output_type": "stream",
          "name": "stdout",
          "text": [
            "<class 'pandas.core.frame.DataFrame'>\n",
            "RangeIndex: 50000 entries, 0 to 49999\n",
            "Data columns (total 2 columns):\n",
            " #   Column     Non-Null Count  Dtype \n",
            "---  ------     --------------  ----- \n",
            " 0   review     50000 non-null  object\n",
            " 1   sentiment  50000 non-null  object\n",
            "dtypes: object(2)\n",
            "memory usage: 781.4+ KB\n"
          ]
        }
      ],
      "source": [
        "# get general data info and structure\n",
        "reviews.info()"
      ]
    },
    {
      "cell_type": "code",
      "execution_count": null,
      "metadata": {
        "colab": {
          "base_uri": "https://localhost:8080/",
          "height": 87
        },
        "id": "cVXsFcCh5RDe",
        "outputId": "94af95b0-5de7-4947-a8a6-a277b8a0b11e"
      },
      "outputs": [
        {
          "output_type": "execute_result",
          "data": {
            "text/plain": [
              "\"One of the other reviewers has mentioned that after watching just 1 Oz episode you'll be hooked. They are right, as this is exactly what happened with me.<br /><br />The first thing that struck me about Oz was its brutality and unflinching scenes of violence, which set in right from the word GO. Trust me, this is not a show for the faint hearted or timid. This show pulls no punches with regards to drugs, sex or violence. Its is hardcore, in the classic use of the word.<br /><br />It is called OZ as that is the nickname given to the Oswald Maximum Security State Penitentary. It focuses mainly on Emerald City, an experimental section of the prison where all the cells have glass fronts and face inwards, so privacy is not high on the agenda. Em City is home to many..Aryans, Muslims, gangstas, Latinos, Christians, Italians, Irish and more....so scuffles, death stares, dodgy dealings and shady agreements are never far away.<br /><br />I would say the main appeal of the show is due to the fact that it goes where other shows wouldn't dare. Forget pretty pictures painted for mainstream audiences, forget charm, forget romance...OZ doesn't mess around. The first episode I ever saw struck me as so nasty it was surreal, I couldn't say I was ready for it, but as I watched more, I developed a taste for Oz, and got accustomed to the high levels of graphic violence. Not just violence, but injustice (crooked guards who'll be sold out for a nickel, inmates who'll kill on order and get away with it, well mannered, middle class inmates being turned into prison bitches due to their lack of street skills or prison experience) Watching Oz, you may become comfortable with what is uncomfortable viewing....thats if you can get in touch with your darker side.\""
            ],
            "application/vnd.google.colaboratory.intrinsic+json": {
              "type": "string"
            }
          },
          "metadata": {},
          "execution_count": 51
        }
      ],
      "source": [
        "# visualize the first review\n",
        "reviews['review'][0]"
      ]
    },
    {
      "cell_type": "markdown",
      "metadata": {
        "id": "QLUamZ_9x8Jl"
      },
      "source": [
        "## Data Cleanup"
      ]
    },
    {
      "cell_type": "code",
      "execution_count": null,
      "metadata": {
        "id": "nJaeC703mSFg"
      },
      "outputs": [],
      "source": [
        "stopwords_list = set(stopwords.words('english'))\n",
        "clean = re.compile('<.*?>')\n",
        "\n",
        "def cleanReview(review):\n",
        "    review = review.lower() # turn to lowercase the review\n",
        "    review = clean.sub('', review) # remove html tags\n",
        "    review = re.sub('[^a-zA-Z]', ' ', review) # remove all charaters that are not letters\n",
        "    review = re.sub(r\"\\s+[a-zA-Z]\\s+\", ' ', review) # remove 1 charecter words (i, a, s, etc.)\n",
        "    review = re.sub(r'\\s+', ' ', review) # adjust spacing between words\n",
        "\n",
        "    # Remove Stopwords (me, i, him, it, is, and, etc.)\n",
        "    pattern = re.compile(r'\\b(' + r'|'.join(stopwords_list) + r')\\b\\s*')\n",
        "    review = pattern.sub('', review)\n",
        "\n",
        "    return review"
      ]
    },
    {
      "cell_type": "code",
      "source": [
        "result = []\n",
        "for review in reviews['review']:\n",
        "  result.append(cleanReview(review))"
      ],
      "metadata": {
        "id": "33FaQgZMk5B4"
      },
      "execution_count": null,
      "outputs": []
    },
    {
      "cell_type": "code",
      "source": [
        "reviews['review'] = result"
      ],
      "metadata": {
        "id": "-okzrteloqfQ"
      },
      "execution_count": null,
      "outputs": []
    },
    {
      "cell_type": "code",
      "source": [
        "reviews['review'][0]"
      ],
      "metadata": {
        "colab": {
          "base_uri": "https://localhost:8080/",
          "height": 87
        },
        "id": "5FnxvWbHos5w",
        "outputId": "6472ce86-fb47-48d6-e513-2d9283ed0388"
      },
      "execution_count": null,
      "outputs": [
        {
          "output_type": "execute_result",
          "data": {
            "text/plain": [
              "'one reviewers mentioned watching oz episode hooked right exactly happened first thing struck oz brutality unflinching scenes violence set right word go trust show faint hearted timid show pulls punches regards drugs sex violence hardcore classic use word called oz nickname given oswald maximum security state penitentary focuses mainly emerald city experimental section prison cells glass fronts face inwards privacy high agenda em city home many aryans muslims gangstas latinos christians italians irish scuffles death stares dodgy dealings shady agreements never far away would say main appeal show due fact goes shows dare forget pretty pictures painted mainstream audiences forget charm forget romance oz mess around first episode ever saw struck nasty surreal say ready watched developed taste oz got accustomed high levels graphic violence violence injustice crooked guards sold nickel inmates kill order get away well mannered middle class inmates turned prison bitches due lack street skills prison experience watching oz may become comfortable uncomfortable viewing thats get touch darker side '"
            ],
            "application/vnd.google.colaboratory.intrinsic+json": {
              "type": "string"
            }
          },
          "metadata": {},
          "execution_count": 55
        }
      ]
    },
    {
      "cell_type": "markdown",
      "source": [
        "## Text Tokenization"
      ],
      "metadata": {
        "id": "SVjpqZsyVdWI"
      }
    },
    {
      "cell_type": "code",
      "execution_count": null,
      "metadata": {
        "id": "P2clMtyJTCno"
      },
      "outputs": [],
      "source": [
        "tokenizer = Tokenizer(num_words=50000, filters='!\"#$%&()*+,-./:;<=>?@[\\]^_`{|}~', lower=True)\n",
        "tokenizer.fit_on_texts(reviews['review'].values)\n",
        "word_index = tokenizer.word_index"
      ]
    },
    {
      "cell_type": "markdown",
      "source": [
        "## Data Split\n",
        "Here we split the data into two categotires, train and test.\n",
        "\n",
        "- `X_train` reviews used for training,\n",
        "- `Y_train` sentiments used for training,\n",
        "- `X_test` reviews used for testing,\n",
        "- `Y_test` sentiments used for testing,"
      ],
      "metadata": {
        "id": "ipYFXhcTYTMC"
      }
    },
    {
      "cell_type": "code",
      "execution_count": null,
      "metadata": {
        "id": "HCp6dYR5oiWT"
      },
      "outputs": [],
      "source": [
        "X = tokenizer.texts_to_sequences(reviews['review'].values)\n",
        "X = pad_sequences(X, maxlen=250)\n",
        "\n",
        "Y = pd.get_dummies(reviews['sentiment']).values\n",
        "\n",
        "X_train, X_test, Y_train, Y_test = train_test_split(X,Y, test_size = 0.2, random_state = 42)"
      ]
    },
    {
      "cell_type": "markdown",
      "metadata": {
        "id": "1znehoK_yJ7X"
      },
      "source": [
        "## Model"
      ]
    },
    {
      "cell_type": "code",
      "execution_count": null,
      "metadata": {
        "colab": {
          "base_uri": "https://localhost:8080/"
        },
        "id": "7avpO6PIxb5z",
        "outputId": "af6ab722-06b1-424a-a84e-a676a5231fc0"
      },
      "outputs": [
        {
          "output_type": "stream",
          "name": "stdout",
          "text": [
            "Model: \"sequential_1\"\n",
            "_________________________________________________________________\n",
            " Layer (type)                Output Shape              Param #   \n",
            "=================================================================\n",
            " embedding_1 (Embedding)     (None, 250, 100)          5000000   \n",
            "                                                                 \n",
            " spatial_dropout1d_1 (Spati  (None, 250, 100)          0         \n",
            " alDropout1D)                                                    \n",
            "                                                                 \n",
            " gru_1 (GRU)                 (None, 100)               60600     \n",
            "                                                                 \n",
            " dense_1 (Dense)             (None, 2)                 202       \n",
            "                                                                 \n",
            "=================================================================\n",
            "Total params: 5060802 (19.31 MB)\n",
            "Trainable params: 5060802 (19.31 MB)\n",
            "Non-trainable params: 0 (0.00 Byte)\n",
            "_________________________________________________________________\n",
            "None\n"
          ]
        }
      ],
      "source": [
        "# Define GRU model\n",
        "gruModel = Sequential()\n",
        "gruModel.add(Embedding(50000, 100, input_length=X.shape[1]))\n",
        "gruModel.add(SpatialDropout1D(0.2))\n",
        "gruModel.add(GRU(100, dropout=0.2, recurrent_dropout=0.2))\n",
        "gruModel.add(Dense(2, activation='softmax'))\n",
        "gruModel.compile(loss='categorical_crossentropy', optimizer='adam', metrics=['accuracy'])\n",
        "print(gruModel.summary())"
      ]
    },
    {
      "cell_type": "code",
      "source": [
        "plot_model(gruModel, to_file='gru_plot.png', show_shapes=True, show_layer_names=True)"
      ],
      "metadata": {
        "id": "ZOLzv4t08JA0",
        "colab": {
          "base_uri": "https://localhost:8080/",
          "height": 533
        },
        "outputId": "c3417ae5-d2a5-486d-d097-a98df70a846d"
      },
      "execution_count": null,
      "outputs": [
        {
          "output_type": "execute_result",
          "data": {
            "image/png": "[encoded data removed]",
            "text/plain": [
              "<IPython.core.display.Image object>"
            ]
          },
          "metadata": {},
          "execution_count": 59
        }
      ]
    },
    {
      "cell_type": "code",
      "execution_count": null,
      "metadata": {
        "id": "RGPmvg-6xRh3",
        "colab": {
          "base_uri": "https://localhost:8080/"
        },
        "outputId": "501ce76a-accc-45cf-ab4d-059da975aace"
      },
      "outputs": [
        {
          "output_type": "stream",
          "name": "stdout",
          "text": [
            "Epoch 1/14\n",
            "500/500 [==============================] - 368s 735ms/step - loss: 0.1657 - accuracy: 0.9396 - val_loss: 0.2953 - val_accuracy: 0.8821\n",
            "Epoch 2/14\n",
            "500/500 [==============================] - 372s 744ms/step - loss: 0.0834 - accuracy: 0.9721 - val_loss: 0.4027 - val_accuracy: 0.8784\n",
            "Epoch 3/14\n",
            "500/500 [==============================] - 379s 757ms/step - loss: 0.0495 - accuracy: 0.9834 - val_loss: 0.4359 - val_accuracy: 0.8739\n",
            "Epoch 4/14\n",
            "500/500 [==============================] - 375s 751ms/step - loss: 0.0299 - accuracy: 0.9898 - val_loss: 0.5657 - val_accuracy: 0.8769\n",
            "Epoch 5/14\n",
            "500/500 [==============================] - 374s 747ms/step - loss: 0.0196 - accuracy: 0.9941 - val_loss: 0.6672 - val_accuracy: 0.8749\n",
            "Epoch 6/14\n",
            "500/500 [==============================] - 375s 749ms/step - loss: 0.0171 - accuracy: 0.9940 - val_loss: 0.6900 - val_accuracy: 0.8620\n",
            "Epoch 7/14\n",
            "500/500 [==============================] - 369s 739ms/step - loss: 0.0157 - accuracy: 0.9949 - val_loss: 0.7234 - val_accuracy: 0.8704\n",
            "Epoch 8/14\n",
            "500/500 [==============================] - 375s 750ms/step - loss: 0.0123 - accuracy: 0.9956 - val_loss: 0.7341 - val_accuracy: 0.8681\n",
            "Epoch 9/14\n",
            "500/500 [==============================] - 375s 751ms/step - loss: 0.0092 - accuracy: 0.9969 - val_loss: 0.7351 - val_accuracy: 0.8692\n",
            "Epoch 10/14\n",
            "500/500 [==============================] - 374s 748ms/step - loss: 0.0106 - accuracy: 0.9963 - val_loss: 0.7755 - val_accuracy: 0.8698\n",
            "Epoch 11/14\n",
            "500/500 [==============================] - 374s 749ms/step - loss: 0.0088 - accuracy: 0.9972 - val_loss: 0.7473 - val_accuracy: 0.8704\n",
            "Epoch 12/14\n",
            "500/500 [==============================] - 377s 754ms/step - loss: 0.0072 - accuracy: 0.9977 - val_loss: 0.7819 - val_accuracy: 0.8674\n",
            "Epoch 13/14\n",
            "500/500 [==============================] - 374s 749ms/step - loss: 0.0052 - accuracy: 0.9983 - val_loss: 0.8930 - val_accuracy: 0.8700\n",
            "Epoch 14/14\n",
            "500/500 [==============================] - 377s 752ms/step - loss: 0.0051 - accuracy: 0.9983 - val_loss: 0.8378 - val_accuracy: 0.8643\n"
          ]
        },
        {
          "output_type": "execute_result",
          "data": {
            "text/plain": [
              "['GRU.sav']"
            ]
          },
          "metadata": {},
          "execution_count": 61
        }
      ],
      "source": [
        "gruHistory = gruModel.fit(X_train, Y_train, epochs=14, batch_size=64, validation_split=0.2)\n",
        "joblib.dump(gruModel, 'GRU.sav')"
      ]
    },
    {
      "cell_type": "code",
      "execution_count": null,
      "metadata": {
        "id": "I8G-sCtK4Snp",
        "colab": {
          "base_uri": "https://localhost:8080/"
        },
        "outputId": "351dcf5a-4c08-4666-b539-6d584334b11d"
      },
      "outputs": [
        {
          "output_type": "stream",
          "name": "stdout",
          "text": [
            "313/313 [==============================] - 33s 102ms/step - loss: 0.7907 - accuracy: 0.8695\n",
            "GRU Test set\n",
            "  Loss: 0.791\n",
            "  Accuracy: 0.869\n"
          ]
        }
      ],
      "source": [
        "gruModel = joblib.load('GRU.sav')\n",
        "acc = gruModel.evaluate(X_test,Y_test)\n",
        "print('GRU Test set\\n  Loss: {:0.3f}\\n  Accuracy: {:0.3f}'.format(acc[0],acc[1]))"
      ]
    },
    {
      "cell_type": "markdown",
      "metadata": {
        "id": "fVyjX3vz7xiM"
      },
      "source": [
        "## Plot"
      ]
    },
    {
      "cell_type": "code",
      "execution_count": null,
      "metadata": {
        "id": "f_Ha-WHlzB2t",
        "colab": {
          "base_uri": "https://localhost:8080/",
          "height": 927
        },
        "outputId": "7cbc2fbe-5e7d-4478-b81f-04545f176582"
      },
      "outputs": [
        {
          "output_type": "display_data",
          "data": {
            "text/plain": [
              "<Figure size 640x480 with 1 Axes>"
            ],
            "image/png": "[encoded data removed]"
          },
          "metadata": {}
        },
        {
          "output_type": "display_data",
          "data": {
            "text/plain": [
              "<Figure size 640x480 with 1 Axes>"
            ],
            "image/png": "[encoded data removed]"
          },
          "metadata": {}
        }
      ],
      "source": [
        "plt.plot(gruHistory.history['accuracy'])\n",
        "plt.plot(gruHistory.history['val_accuracy'])\n",
        "plt.title('GRU accuracy')\n",
        "plt.ylabel('accuracy')\n",
        "plt.xlabel('epoch')\n",
        "plt.legend(['train', 'test'], loc='upper left')\n",
        "plt.show()\n",
        "# summarize history for loss\n",
        "plt.plot(gruHistory.history['loss'])\n",
        "plt.plot(gruHistory.history['val_loss'])\n",
        "plt.title('GRU loss')\n",
        "plt.ylabel('loss')\n",
        "plt.xlabel('epoch')\n",
        "plt.legend(['train', 'test'], loc='upper left')\n",
        "plt.show()"
      ]
    }
  ],
  "metadata": {
    "colab": {
      "provenance": [],
      "include_colab_link": true
    },
    "kernelspec": {
      "display_name": "Python 3",
      "name": "python3"
    },
    "language_info": {
      "name": "python"
    }
  },
  "nbformat": 4,
  "nbformat_minor": 0
}